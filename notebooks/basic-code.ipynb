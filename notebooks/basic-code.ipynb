{
 "metadata": {
  "language_info": {
   "codemirror_mode": {
    "name": "ipython",
    "version": 3
   },
   "file_extension": ".py",
   "mimetype": "text/x-python",
   "name": "python",
   "nbconvert_exporter": "python",
   "pygments_lexer": "ipython3",
   "version": "3.8.5-final"
  },
  "orig_nbformat": 2,
  "kernelspec": {
   "name": "python38564bitpytorch110condab050f83f33474bd49b114c64e9b47d9e",
   "display_name": "Python 3.8.5 64-bit ('pytorch-110': conda)",
   "language": "python"
  }
 },
 "nbformat": 4,
 "nbformat_minor": 2,
 "cells": [
  {
   "source": [
    "# Twitter Sentiment Analysis\n",
    "Nicolas Traub  \n",
    "@nftd\n",
    "\n",
    "## Introduction\n",
    "  \n",
    "This tutorial explains a method to predict a sentiment of a twitt, it will be used RRNs as Deep Learning models. In general, the use of data in Social Networks is being exploited by the industry. For example, the analysis of sentiment of twits can be useful for a company that wants to analyse its new products. However, it is impossible that humans analyse each twitt, therefore training deep learning models to predict the sentiment is a way to scale the analysis.\n",
    "\n",
    "The data used in this tutorial comes from an investigation made from Stanford’s researchers. They have collected 1.4 millions of twits and classify them as positive or negative emotions based on emoticons written in the same twit, simulating Facebook. The table below contains the emotion category of the emoticon used. The data was downloaded by using the HugginFace API.\n",
    "  \n",
    "The structure of the tutorial is divided in three parts: first, the steps to clean twits in order to have a dataset to do the predictions; second, the description and use of GloVe as a Word Embedding model; third, the use of LSTM in predicting sentiments. The idea of using RRNs is that sequence of words have information that can be used to predict the sentiment."
   ],
   "cell_type": "markdown",
   "metadata": {}
  },
  {
   "cell_type": "code",
   "execution_count": 1,
   "metadata": {},
   "outputs": [],
   "source": [
    "from datasets import load_dataset\n",
    "import re\n",
    "import random\n",
    "import torch\n",
    "import torch.nn as nn\n",
    "from torchtext.data import get_tokenizer\n",
    "from torchtext.vocab import GloVe\n",
    "import pandas as pd\n",
    "import matplotlib.pyplot as plt"
   ]
  },
  {
   "source": [
    "## Load Dataset\n",
    "First, it is needed to download the data from Hugginface API and then split it between train and test subsamples. Since there are 1.4 millions tweet, sometimes the infraestructure is a bottleneck to process the data. Hence, we can take a sample of the population to create the subsamples."
   ],
   "cell_type": "markdown",
   "metadata": {}
  },
  {
   "cell_type": "code",
   "execution_count": 2,
   "metadata": {},
   "outputs": [
    {
     "output_type": "stream",
     "name": "stderr",
     "text": [
      "Reusing dataset sentiment140 (/home/nftd/.cache/huggingface/datasets/sentiment140/sentiment140/1.0.0/9fe1c0ce3319c47cc65ff7e49aac6c34d9c050ab1432988c104b3b275e360f3f)\n"
     ]
    }
   ],
   "source": [
    "dataset = load_dataset(\"sentiment140\")"
   ]
  },
  {
   "cell_type": "code",
   "execution_count": 3,
   "metadata": {},
   "outputs": [],
   "source": [
    "def read_twitts(data,twitt_n= 10000):\n",
    "    \"\"\"Read twitts.\n",
    "\n",
    "    Parameters\n",
    "    -----------\n",
    "    data : DatasetDict\n",
    "        Dataset loaded from hugginface\n",
    "    twitt_n : int\n",
    "        Number of twitts to use. This is to handle the use of memory\n",
    "    \n",
    "    Returns\n",
    "    -----------\n",
    "    data_train : list\n",
    "        Train data\n",
    "    labels_train : list\n",
    "        Train label\n",
    "    data_test : list\n",
    "        Test data\n",
    "    labels_test : list\n",
    "        Test label\n",
    "    \"\"\"\n",
    "    set_ = 'train'\n",
    "    randomlist = random.sample(range(0, 1600000), twitt_n)\n",
    "    trainrandomlist = random.sample(randomlist,int(len(randomlist)*0.8))\n",
    "    testrandomlist = []\n",
    "    for index in randomlist:\n",
    "        if index not in trainrandomlist:\n",
    "            testrandomlist.append(index)\n",
    "    #training set\n",
    "    data_train, labels_train = [],[]\n",
    "    for i in trainrandomlist:\n",
    "        data_train.append(data[set_][i]['text'])\n",
    "        labels_train.append(data[set_][i]['sentiment'])\n",
    "    #test set\n",
    "    data_test, labels_test = [],[]\n",
    "    for i in testrandomlist:\n",
    "        data_test.append(data[set_][i]['text'])\n",
    "        labels_test.append(data[set_][i]['sentiment'])\n",
    "    return data_train,labels_train,data_test,labels_test"
   ]
  },
  {
   "cell_type": "code",
   "execution_count": 4,
   "metadata": {},
   "outputs": [],
   "source": [
    "train_data, train_label, test_data, test_label = read_twitts(dataset,16000)"
   ]
  },
  {
   "source": [
    "To double check the procedures, the below function shows information of tweets and its labels, where `4` is a positive twitt and `0` is a negative tweet."
   ],
   "cell_type": "markdown",
   "metadata": {}
  },
  {
   "cell_type": "code",
   "execution_count": 5,
   "metadata": {},
   "outputs": [],
   "source": [
    "def data_info(data,label, k = 10):\n",
    "    \"\"\"Print tweets to check the info of the data.\n",
    "\n",
    "    Parameters\n",
    "    -----------\n",
    "    data : list\n",
    "        Subsample of twitts\n",
    "    label : list\n",
    "        List that contains the sentiment information of each twitt\n",
    "    k : int\n",
    "        Number of twitts to print\n",
    "    \n",
    "    \"\"\"\n",
    "    print('# trainings:', len(data))\n",
    "    for x, y in zip(label[0:k], data[0:k]):\n",
    "        print('label:', x, 'review:', y)\n",
    "    for x, y in zip(label[-k:-1], data[-k:-1]):\n",
    "        print('label:', x, 'review:', y)"
   ]
  },
  {
   "cell_type": "code",
   "execution_count": 6,
   "metadata": {},
   "outputs": [
    {
     "output_type": "stream",
     "name": "stdout",
     "text": [
      "# trainings: 12800\nlabel: 0 review: The old guy tanning in a Speedo has made this park a little less adorable \nlabel: 0 review: @alexalbrecht I live a couple hours from NYC and wish I could be there for the taping, but fundage is short \nlabel: 0 review: @temposhark Renting movies on iTunes requires one of the newer video enabled iPods. I have one of the early ones that is not compatible \nlabel: 4 review: Following that, I'm speaking to SharePoint Managers today, arranging other peoples interviews \nlabel: 0 review: I think I just ate an apple with a worm in it... awesome  See what I get for multitasking?\nlabel: 0 review: @KyNamDoan GOOD LUCK WITH THE LSAT!!! That will be me in the next few months. \nlabel: 4 review: @nickgon It was invented as a way for friends to help other friends waste time at work \nlabel: 0 review: bye twittas...until next time \nlabel: 4 review: just came back from a run it was fun man am out of shape \nlabel: 4 review: My friends made me join twitter.. so here i am  hows everyones day so far?\nlabel: 0 review: @konst4nt1ne im sick  if i wasnt, id be at the show with ya!\nlabel: 0 review: @FizzyladyRX8 is What Would Alfie Kohn do? author of Unconditional Parenting. Nowt to do with the bairn being away, but yeah that's sad \nlabel: 4 review: @BiketheUSforMS Good luck with the drive !!!  Wishing you all the best\nlabel: 0 review: Working on the final assignments due tomorrow, but I still have more to do in the coming weeks. \nlabel: 4 review: @goshock I know, I was mentioning that to @iamjosh and wanted 2 keep u in the loop \nlabel: 0 review: my phone isnt working. so i just have to sit here going crazy. im hungry too. \nlabel: 0 review: @Mamajen916 It's my day off. I'm just being nice. It was suppose to give me a 6th day...but my DM veto'd that. \nlabel: 4 review: 174 days left  havent been on for a long time .. so much school work to do :@\nlabel: 4 review: @therealsavannah i LOVE ur battlefield cover!.. im watching it now  xox\n"
     ]
    }
   ],
   "source": [
    "data_info(train_data,train_label)"
   ]
  },
  {
   "source": [
    "## Data cleaning\n",
    "In this section it will cover a step-by-step guide on how text can be cleaned, the objective is to transform the data into numbers so the models can be trained. It is necessary to understand the twit structure before designing a pipeline, below it is showed an example of a twit which was classified as negative:\n",
    "  \n",
    "> @switchfoot http://twitpic.com/2y1zl - Awww, that's a bummer. You shoulda got David Carr of Third Day to do it. "
   ],
   "cell_type": "markdown",
   "metadata": {}
  },
  {
   "cell_type": "code",
   "execution_count": 7,
   "metadata": {},
   "outputs": [],
   "source": [
    "twit = \"@switchfoot http://twitpic.com/2y1zl - Awww, that's a bummer. You shoulda got David Carr of Third Day to do it.\""
   ]
  },
  {
   "source": [
    "The steps to transform the data are the following:\n",
    "### Remove users\n",
    "This is a simple step; the objective is to identify words which contains an @ at their left side."
   ],
   "cell_type": "markdown",
   "metadata": {}
  },
  {
   "cell_type": "code",
   "execution_count": 8,
   "metadata": {},
   "outputs": [
    {
     "output_type": "stream",
     "name": "stdout",
     "text": [
      " http://twitpic.com/2y1zl - Awww, that's a bummer. You shoulda got David Carr of Third Day to do it.\n"
     ]
    }
   ],
   "source": [
    "def remove_user(txt):\n",
    "    \"\"\"Remove @users from twitts since the don't give information of sentiments\n",
    "\n",
    "    Parameters\n",
    "    -----------\n",
    "    txt : String\n",
    "        Twitt\n",
    "    \n",
    "    Returns\n",
    "    -----------\n",
    "    twitt : String\n",
    "        Twitt without @users\n",
    "    \"\"\"\n",
    "    return re.sub('@[^\\s]+','',txt)\n",
    "twit = remove_user(twit)\n",
    "print(twit)"
   ]
  },
  {
   "cell_type": "code",
   "execution_count": 9,
   "metadata": {},
   "outputs": [
    {
     "output_type": "stream",
     "name": "stdout",
     "text": [
      "# trainings: 12800\nlabel: 0 review: The old guy tanning in a Speedo has made this park a little less adorable \nlabel: 0 review:  I live a couple hours from NYC and wish I could be there for the taping, but fundage is short \nlabel: 0 review:  Renting movies on iTunes requires one of the newer video enabled iPods. I have one of the early ones that is not compatible \nlabel: 4 review: Following that, I'm speaking to SharePoint Managers today, arranging other peoples interviews \nlabel: 0 review: I think I just ate an apple with a worm in it... awesome  See what I get for multitasking?\nlabel: 0 review:  GOOD LUCK WITH THE LSAT!!! That will be me in the next few months. \nlabel: 4 review:  It was invented as a way for friends to help other friends waste time at work \nlabel: 0 review: bye twittas...until next time \nlabel: 4 review: just came back from a run it was fun man am out of shape \nlabel: 4 review: My friends made me join twitter.. so here i am  hows everyones day so far?\nlabel: 0 review:  im sick  if i wasnt, id be at the show with ya!\nlabel: 0 review:  is What Would Alfie Kohn do? author of Unconditional Parenting. Nowt to do with the bairn being away, but yeah that's sad \nlabel: 4 review:  Good luck with the drive !!!  Wishing you all the best\nlabel: 0 review: Working on the final assignments due tomorrow, but I still have more to do in the coming weeks. \nlabel: 4 review:  I know, I was mentioning that to  and wanted 2 keep u in the loop \nlabel: 0 review: my phone isnt working. so i just have to sit here going crazy. im hungry too. \nlabel: 0 review:  It's my day off. I'm just being nice. It was suppose to give me a 6th day...but my DM veto'd that. \nlabel: 4 review: 174 days left  havent been on for a long time .. so much school work to do :@\nlabel: 4 review:  i LOVE ur battlefield cover!.. im watching it now  xox\n"
     ]
    }
   ],
   "source": [
    "train_data_clean = [remove_user(i) for i in train_data]\n",
    "test_data_clean = [remove_user(i) for i in test_data]\n",
    "data_info(train_data_clean,train_label)"
   ]
  },
  {
   "source": [
    "### Remove URL\n",
    "Although hyperlink can have important information, it will take out from the text."
   ],
   "cell_type": "markdown",
   "metadata": {}
  },
  {
   "cell_type": "code",
   "execution_count": 10,
   "metadata": {},
   "outputs": [
    {
     "output_type": "stream",
     "name": "stdout",
     "text": [
      "Awww thats a bummer You shoulda got David Carr of Third Day to do it\n"
     ]
    }
   ],
   "source": [
    "def remove_url(txt):\n",
    "    \"\"\"Remove hyperlinksfrom twitts.\n",
    "\n",
    "    Parameters\n",
    "    -----------\n",
    "    txt : String\n",
    "        Twitt\n",
    "    \n",
    "    Returns\n",
    "    -----------\n",
    "    twitt : String\n",
    "        Twitt without hyperlinks\n",
    "    \"\"\"\n",
    "    return \" \".join(re.sub(\"([^0-9A-Za-z \\t])|(\\w+:\\/\\/\\S+)\", \"\", txt).split())\n",
    "twit = remove_url(twit)\n",
    "print(twit)"
   ]
  },
  {
   "cell_type": "code",
   "execution_count": 11,
   "metadata": {},
   "outputs": [
    {
     "output_type": "stream",
     "name": "stdout",
     "text": [
      "# trainings: 12800\nlabel: 0 review: The old guy tanning in a Speedo has made this park a little less adorable\nlabel: 0 review: I live a couple hours from NYC and wish I could be there for the taping but fundage is short\nlabel: 0 review: Renting movies on iTunes requires one of the newer video enabled iPods I have one of the early ones that is not compatible\nlabel: 4 review: Following that Im speaking to SharePoint Managers today arranging other peoples interviews\nlabel: 0 review: I think I just ate an apple with a worm in it awesome See what I get for multitasking\nlabel: 0 review: GOOD LUCK WITH THE LSAT That will be me in the next few months\nlabel: 4 review: It was invented as a way for friends to help other friends waste time at work\nlabel: 0 review: bye twittasuntil next time\nlabel: 4 review: just came back from a run it was fun man am out of shape\nlabel: 4 review: My friends made me join twitter so here i am hows everyones day so far\nlabel: 0 review: im sick if i wasnt id be at the show with ya\nlabel: 0 review: is What Would Alfie Kohn do author of Unconditional Parenting Nowt to do with the bairn being away but yeah thats sad\nlabel: 4 review: Good luck with the drive Wishing you all the best\nlabel: 0 review: Working on the final assignments due tomorrow but I still have more to do in the coming weeks\nlabel: 4 review: I know I was mentioning that to and wanted 2 keep u in the loop\nlabel: 0 review: my phone isnt working so i just have to sit here going crazy im hungry too\nlabel: 0 review: Its my day off Im just being nice It was suppose to give me a 6th daybut my DM vetod that\nlabel: 4 review: 174 days left havent been on for a long time so much school work to do\nlabel: 4 review: i LOVE ur battlefield cover im watching it now xox\n"
     ]
    }
   ],
   "source": [
    "train_data_clean = [remove_url(i) for i in train_data_clean]\n",
    "test_data_clean = [remove_url(i) for i in test_data_clean]\n",
    "data_info(train_data_clean,train_label)"
   ]
  },
  {
   "source": [
    "### Tokenize\n",
    "Tokenize means that the words in the text will be split by a delimiter, normalize by a function and put the words in a list. In our case, it will split the words by spaces and it will transform to undercase all of the words. It will be used the function “get_tokenizer” from torchtext. The result are tokens and an example it is showed below:"
   ],
   "cell_type": "markdown",
   "metadata": {}
  },
  {
   "cell_type": "code",
   "execution_count": 12,
   "metadata": {},
   "outputs": [
    {
     "output_type": "stream",
     "name": "stdout",
     "text": [
      "['awww', 'thats', 'a', 'bummer', 'you', 'shoulda', 'got', 'david', 'carr', 'of', 'third', 'day', 'to', 'do', 'it']\n"
     ]
    }
   ],
   "source": [
    "tokenizer = get_tokenizer(\"basic_english\")\n",
    "print(tokenizer(twit))"
   ]
  },
  {
   "cell_type": "code",
   "execution_count": 13,
   "metadata": {},
   "outputs": [
    {
     "output_type": "stream",
     "name": "stdout",
     "text": [
      "# trainings: 12800\nlabel: 0 review: ['the', 'old', 'guy', 'tanning', 'in', 'a', 'speedo', 'has', 'made', 'this', 'park', 'a', 'little', 'less', 'adorable']\nlabel: 0 review: ['i', 'live', 'a', 'couple', 'hours', 'from', 'nyc', 'and', 'wish', 'i', 'could', 'be', 'there', 'for', 'the', 'taping', 'but', 'fundage', 'is', 'short']\nlabel: 0 review: ['renting', 'movies', 'on', 'itunes', 'requires', 'one', 'of', 'the', 'newer', 'video', 'enabled', 'ipods', 'i', 'have', 'one', 'of', 'the', 'early', 'ones', 'that', 'is', 'not', 'compatible']\nlabel: 4 review: ['following', 'that', 'im', 'speaking', 'to', 'sharepoint', 'managers', 'today', 'arranging', 'other', 'peoples', 'interviews']\nlabel: 0 review: ['i', 'think', 'i', 'just', 'ate', 'an', 'apple', 'with', 'a', 'worm', 'in', 'it', 'awesome', 'see', 'what', 'i', 'get', 'for', 'multitasking']\nlabel: 0 review: ['good', 'luck', 'with', 'the', 'lsat', 'that', 'will', 'be', 'me', 'in', 'the', 'next', 'few', 'months']\nlabel: 4 review: ['it', 'was', 'invented', 'as', 'a', 'way', 'for', 'friends', 'to', 'help', 'other', 'friends', 'waste', 'time', 'at', 'work']\nlabel: 0 review: ['bye', 'twittasuntil', 'next', 'time']\nlabel: 4 review: ['just', 'came', 'back', 'from', 'a', 'run', 'it', 'was', 'fun', 'man', 'am', 'out', 'of', 'shape']\nlabel: 4 review: ['my', 'friends', 'made', 'me', 'join', 'twitter', 'so', 'here', 'i', 'am', 'hows', 'everyones', 'day', 'so', 'far']\nlabel: 0 review: ['im', 'sick', 'if', 'i', 'wasnt', 'id', 'be', 'at', 'the', 'show', 'with', 'ya']\nlabel: 0 review: ['is', 'what', 'would', 'alfie', 'kohn', 'do', 'author', 'of', 'unconditional', 'parenting', 'nowt', 'to', 'do', 'with', 'the', 'bairn', 'being', 'away', 'but', 'yeah', 'thats', 'sad']\nlabel: 4 review: ['good', 'luck', 'with', 'the', 'drive', 'wishing', 'you', 'all', 'the', 'best']\nlabel: 0 review: ['working', 'on', 'the', 'final', 'assignments', 'due', 'tomorrow', 'but', 'i', 'still', 'have', 'more', 'to', 'do', 'in', 'the', 'coming', 'weeks']\nlabel: 4 review: ['i', 'know', 'i', 'was', 'mentioning', 'that', 'to', 'and', 'wanted', '2', 'keep', 'u', 'in', 'the', 'loop']\nlabel: 0 review: ['my', 'phone', 'isnt', 'working', 'so', 'i', 'just', 'have', 'to', 'sit', 'here', 'going', 'crazy', 'im', 'hungry', 'too']\nlabel: 0 review: ['its', 'my', 'day', 'off', 'im', 'just', 'being', 'nice', 'it', 'was', 'suppose', 'to', 'give', 'me', 'a', '6th', 'daybut', 'my', 'dm', 'vetod', 'that']\nlabel: 4 review: ['174', 'days', 'left', 'havent', 'been', 'on', 'for', 'a', 'long', 'time', 'so', 'much', 'school', 'work', 'to', 'do']\nlabel: 4 review: ['i', 'love', 'ur', 'battlefield', 'cover', 'im', 'watching', 'it', 'now', 'xox']\n"
     ]
    }
   ],
   "source": [
    "train_data_token = [tokenizer(i) for i in train_data_clean]\n",
    "test_data_token = [tokenizer(i) for i in test_data_clean]\n",
    "data_info(train_data_token,train_label)"
   ]
  },
  {
   "source": [
    "### Drop empty twits\n",
    "This step is simple, after the transformations it can be found twits without tokens. Hence, all empty lists will be dropped, within their labels."
   ],
   "cell_type": "markdown",
   "metadata": {}
  },
  {
   "cell_type": "code",
   "execution_count": 14,
   "metadata": {},
   "outputs": [],
   "source": [
    "def drop_empty_tweets(data, label):\n",
    "    \"\"\"Drop twitts and its label when after the cleaning there are no tokens\n",
    "\n",
    "    Parameters\n",
    "    -----------\n",
    "    data : list\n",
    "        Twitt\n",
    "    label : list\n",
    "        Twitt's sentiment\n",
    "    \n",
    "    Returns\n",
    "    -----------\n",
    "    data_non_empty : list\n",
    "        List of twitts which have at least one token\n",
    "    label_non_empty : list\n",
    "        List of twitts' sentiment which have at least one token\n",
    "\n",
    "    \"\"\"\n",
    "    data_non_empty = []\n",
    "    label_non_empty = []\n",
    "    empty_twitt = 0\n",
    "    for i, tweet in enumerate(data):\n",
    "        if len(tweet) > 0:\n",
    "            data_non_empty.append(tweet)\n",
    "            label_non_empty.append(label[i])\n",
    "        else:\n",
    "            empty_twitt += 1\n",
    "    print(f\"There were {empty_twitt} empty twitts\")\n",
    "    return data_non_empty,label_non_empty"
   ]
  },
  {
   "cell_type": "code",
   "execution_count": 15,
   "metadata": {},
   "outputs": [
    {
     "output_type": "stream",
     "name": "stdout",
     "text": [
      "There were 30 empty twitts\nThere were 5 empty twitts\n"
     ]
    }
   ],
   "source": [
    "train_data_non_empty,train_label_non_empty = drop_empty_tweets(train_data_token,train_label)\n",
    "test_data_non_empty,test_label_non_empty = drop_empty_tweets(test_data_token,test_label)"
   ]
  },
  {
   "source": [
    "### Convert label\n",
    "The frequency of each sentiment label is shown below. The label `4` correspond to a positive sentiment, while `0` is a negative sentiment."
   ],
   "cell_type": "markdown",
   "metadata": {}
  },
  {
   "cell_type": "code",
   "execution_count": 16,
   "metadata": {},
   "outputs": [
    {
     "output_type": "execute_result",
     "data": {
      "text/plain": [
       "0    6408\n",
       "4    6362\n",
       "dtype: int64"
      ]
     },
     "metadata": {},
     "execution_count": 16
    }
   ],
   "source": [
    "pd.Series(train_label_non_empty).value_counts()"
   ]
  },
  {
   "source": [
    "This means that we are facing with balanced classes, hence there is no need to specify weights in the loss function. However, the Neural Networks is set to predict {0,1}. Therefore, this is easy to solve by changing the label `4` to `1`."
   ],
   "cell_type": "markdown",
   "metadata": {}
  },
  {
   "cell_type": "code",
   "execution_count": 17,
   "metadata": {},
   "outputs": [],
   "source": [
    "def convert_labels(label):\n",
    "    \"\"\"Convert positive sentiment from 4 to 1\n",
    "\n",
    "    Parameters\n",
    "    -----------\n",
    "    label : list\n",
    "        Twitt's sentiment\n",
    "    \n",
    "    Returns\n",
    "    -----------\n",
    "    label : list\n",
    "        Twitt's sentiment now edited\n",
    "\n",
    "    \"\"\"\n",
    "    label_conv = []\n",
    "    for i in label:\n",
    "        if i == 4:\n",
    "            label_conv.append(1)\n",
    "        else:\n",
    "            label_conv.append(0)\n",
    "    return label_conv"
   ]
  },
  {
   "cell_type": "code",
   "execution_count": 18,
   "metadata": {},
   "outputs": [],
   "source": [
    "train_label_converted = convert_labels(train_label_non_empty)\n",
    "test_label_converted = convert_labels(test_label_non_empty)"
   ]
  },
  {
   "source": [
    "### Create vocabulary\n",
    "A vocabulary is a dictionary of unique tokens. If the tokens are counted, we find that there are tokens which have high frequency in the collection, and tokens that happens once. Word embeddings can handle both scenarios because it just transforms a word into a vector. The problem is that the size of the vocabulary is big for a single machine, therefore it will stablish a threshold of minimum of 20 in token’s frequency. With this threshold, now the dictionary has around 22 thousand tokens. Although, the tokens which don’t comply with the threshold will not be dropped, they are going to be set as a zero vector in the next section.\n",
    "  \n",
    "Also, it is computacional efficient to have a dictionary since it is going to be quicker the word to vector transformation."
   ],
   "cell_type": "markdown",
   "metadata": {}
  },
  {
   "cell_type": "code",
   "execution_count": 21,
   "metadata": {},
   "outputs": [],
   "source": [
    "def create_vocabulary(data):\n",
    "    \"\"\"Create vocabulary from the data\n",
    "\n",
    "    Parameters\n",
    "    -----------\n",
    "    data : list\n",
    "        Twitts\n",
    "    \n",
    "    Returns\n",
    "    -----------\n",
    "    wordfreq : dictionary\n",
    "        Dictionary of tokens\n",
    "\n",
    "    \"\"\"\n",
    "    wordfreq = {}\n",
    "    for twitts in data:\n",
    "        for token in twitts:\n",
    "            if token not in wordfreq.keys():\n",
    "                wordfreq[token] = 1\n",
    "            else:\n",
    "                wordfreq[token] += 1\n",
    "    return wordfreq"
   ]
  },
  {
   "cell_type": "code",
   "execution_count": 22,
   "metadata": {},
   "outputs": [],
   "source": [
    "vocabulary = create_vocabulary(train_data_token+test_data_token)"
   ]
  },
  {
   "source": [
    "Examples of most common tokens:"
   ],
   "cell_type": "markdown",
   "metadata": {}
  },
  {
   "cell_type": "code",
   "execution_count": 23,
   "metadata": {},
   "outputs": [
    {
     "output_type": "execute_result",
     "data": {
      "text/plain": [
       "     count\n",
       "i     7476\n",
       "to    5530\n",
       "the   5239\n",
       "a     3795\n",
       "my    3173\n",
       "and   2924\n",
       "you   2824\n",
       "is    2402\n",
       "it    2280\n",
       "for   2191"
      ],
      "text/html": "<div>\n<style scoped>\n    .dataframe tbody tr th:only-of-type {\n        vertical-align: middle;\n    }\n\n    .dataframe tbody tr th {\n        vertical-align: top;\n    }\n\n    .dataframe thead th {\n        text-align: right;\n    }\n</style>\n<table border=\"1\" class=\"dataframe\">\n  <thead>\n    <tr style=\"text-align: right;\">\n      <th></th>\n      <th>count</th>\n    </tr>\n  </thead>\n  <tbody>\n    <tr>\n      <th>i</th>\n      <td>7476</td>\n    </tr>\n    <tr>\n      <th>to</th>\n      <td>5530</td>\n    </tr>\n    <tr>\n      <th>the</th>\n      <td>5239</td>\n    </tr>\n    <tr>\n      <th>a</th>\n      <td>3795</td>\n    </tr>\n    <tr>\n      <th>my</th>\n      <td>3173</td>\n    </tr>\n    <tr>\n      <th>and</th>\n      <td>2924</td>\n    </tr>\n    <tr>\n      <th>you</th>\n      <td>2824</td>\n    </tr>\n    <tr>\n      <th>is</th>\n      <td>2402</td>\n    </tr>\n    <tr>\n      <th>it</th>\n      <td>2280</td>\n    </tr>\n    <tr>\n      <th>for</th>\n      <td>2191</td>\n    </tr>\n  </tbody>\n</table>\n</div>"
     },
     "metadata": {},
     "execution_count": 23
    }
   ],
   "source": [
    "df_vocab = pd.DataFrame.from_dict(vocabulary, orient='index', columns=['count'])\n",
    "df_vocab.sort_values('count',ascending=False).head(10)"
   ]
  },
  {
   "source": [
    "Examples of less common tokens:"
   ],
   "cell_type": "markdown",
   "metadata": {}
  },
  {
   "cell_type": "code",
   "execution_count": 24,
   "metadata": {},
   "outputs": [
    {
     "output_type": "execute_result",
     "data": {
      "text/plain": [
       "                   count\n",
       "greysnow               1\n",
       "freeking               1\n",
       "ashleyampkimberly      1\n",
       "sleppy                 1\n",
       "brittdock              1\n",
       "casualty               1\n",
       "tegan                  1\n",
       "twists                 1\n",
       "rawrrrr                1\n",
       "goosebumps             1"
      ],
      "text/html": "<div>\n<style scoped>\n    .dataframe tbody tr th:only-of-type {\n        vertical-align: middle;\n    }\n\n    .dataframe tbody tr th {\n        vertical-align: top;\n    }\n\n    .dataframe thead th {\n        text-align: right;\n    }\n</style>\n<table border=\"1\" class=\"dataframe\">\n  <thead>\n    <tr style=\"text-align: right;\">\n      <th></th>\n      <th>count</th>\n    </tr>\n  </thead>\n  <tbody>\n    <tr>\n      <th>greysnow</th>\n      <td>1</td>\n    </tr>\n    <tr>\n      <th>freeking</th>\n      <td>1</td>\n    </tr>\n    <tr>\n      <th>ashleyampkimberly</th>\n      <td>1</td>\n    </tr>\n    <tr>\n      <th>sleppy</th>\n      <td>1</td>\n    </tr>\n    <tr>\n      <th>brittdock</th>\n      <td>1</td>\n    </tr>\n    <tr>\n      <th>casualty</th>\n      <td>1</td>\n    </tr>\n    <tr>\n      <th>tegan</th>\n      <td>1</td>\n    </tr>\n    <tr>\n      <th>twists</th>\n      <td>1</td>\n    </tr>\n    <tr>\n      <th>rawrrrr</th>\n      <td>1</td>\n    </tr>\n    <tr>\n      <th>goosebumps</th>\n      <td>1</td>\n    </tr>\n  </tbody>\n</table>\n</div>"
     },
     "metadata": {},
     "execution_count": 24
    }
   ],
   "source": [
    "df_vocab.sort_values('count').head(10)"
   ]
  },
  {
   "source": [
    "Now the words that don't comply with the threshold will be dropped from the vocabulary. The dictionary will be used in the following step."
   ],
   "cell_type": "markdown",
   "metadata": {}
  },
  {
   "cell_type": "code",
   "execution_count": 27,
   "metadata": {},
   "outputs": [],
   "source": [
    "def select_vocabulary(vocab,min_token_freq = 20):\n",
    "    \"\"\"Drop unfrequent tokens\n",
    "\n",
    "    Parameters\n",
    "    -----------\n",
    "    vocab : dictionary\n",
    "        vocabulary of tokens\n",
    "    min_token_freq : int\n",
    "        Minimum number of frequency of each token to use to drop from the vocabulary\n",
    "    \n",
    "    Returns\n",
    "    -----------\n",
    "    final_vocabulary : dictionary\n",
    "        Dictionary of tokens trimmed by the threshold\n",
    "\n",
    "    \"\"\"\n",
    "    final_vocabulary = {}\n",
    "    for i in vocab.keys():\n",
    "        if vocab[i] > min_token_freq:\n",
    "            final_vocabulary[i] = vocab[i]\n",
    "    return final_vocabulary"
   ]
  },
  {
   "cell_type": "code",
   "execution_count": 28,
   "metadata": {},
   "outputs": [],
   "source": [
    "vocabulary = select_vocabulary(vocabulary)"
   ]
  },
  {
   "source": [
    "### Padding to same twitt length\n",
    "This is the final step before converting the tokens to vectors. The point of this step is that RRNs needs to define a specific sequence length. This means that it cannot be trained from data which twits have different number of tokens. In order to solve this problem, same as CNN, it is necessary to “pad” the tweets if the length is lesser to a threshold. If the tweet has lesser tokens, then it fills the token \"<PAD\\>\" at the beginning until the threshold is reached. Finally, if a tweet has more tokens than the threshold, then the sequence will be “cut” in the threshold number.\n",
    "  \n",
    "- The maximum number of tokens found in a twit is 40\n",
    "- The threshold selected is 30 (based on the figure below)\n",
    "  \n",
    "We can use a higher threshold, up to 40, if it is necessary."
   ],
   "cell_type": "markdown",
   "metadata": {}
  },
  {
   "cell_type": "code",
   "execution_count": 29,
   "metadata": {},
   "outputs": [
    {
     "output_type": "execute_result",
     "data": {
      "text/plain": [
       "Text(0, 0.5, 'freq')"
      ]
     },
     "metadata": {},
     "execution_count": 29
    },
    {
     "output_type": "display_data",
     "data": {
      "text/plain": "<Figure size 432x288 with 1 Axes>",
      "image/svg+xml": "<?xml version=\"1.0\" encoding=\"utf-8\" standalone=\"no\"?>\n<!DOCTYPE svg PUBLIC \"-//W3C//DTD SVG 1.1//EN\"\n  \"http://www.w3.org/Graphics/SVG/1.1/DTD/svg11.dtd\">\n<!-- Created with matplotlib (https://matplotlib.org/) -->\n<svg height=\"262.19625pt\" version=\"1.1\" viewBox=\"0 0 395.424315 262.19625\" width=\"395.424315pt\" xmlns=\"http://www.w3.org/2000/svg\" xmlns:xlink=\"http://www.w3.org/1999/xlink\">\n <metadata>\n  <rdf:RDF xmlns:cc=\"http://creativecommons.org/ns#\" xmlns:dc=\"http://purl.org/dc/elements/1.1/\" xmlns:rdf=\"http://www.w3.org/1999/02/22-rdf-syntax-ns#\">\n   <cc:Work>\n    <dc:type rdf:resource=\"http://purl.org/dc/dcmitype/StillImage\"/>\n    <dc:date>2021-01-03T15:30:44.607724</dc:date>\n    <dc:format>image/svg+xml</dc:format>\n    <dc:creator>\n     <cc:Agent>\n      <dc:title>Matplotlib v3.3.2, https://matplotlib.org/</dc:title>\n     </cc:Agent>\n    </dc:creator>\n   </cc:Work>\n  </rdf:RDF>\n </metadata>\n <defs>\n  <style type=\"text/css\">*{stroke-linecap:butt;stroke-linejoin:round;}</style>\n </defs>\n <g id=\"figure_1\">\n  <g id=\"patch_1\">\n   <path d=\"M 0 262.19625 \nL 395.424315 262.19625 \nL 395.424315 0 \nL 0 0 \nz\n\" style=\"fill:none;\"/>\n  </g>\n  <g id=\"axes_1\">\n   <g id=\"patch_2\">\n    <path d=\"M 53.328125 224.64 \nL 388.128125 224.64 \nL 388.128125 7.2 \nL 53.328125 7.2 \nz\n\" style=\"fill:#ffffff;\"/>\n   </g>\n   <g id=\"patch_3\">\n    <path clip-path=\"url(#p8c168d4ff5)\" d=\"M 68.546307 224.64 \nL 98.98267 224.64 \nL 98.98267 154.392106 \nL 68.546307 154.392106 \nz\n\" style=\"fill:#1f77b4;\"/>\n   </g>\n   <g id=\"patch_4\">\n    <path clip-path=\"url(#p8c168d4ff5)\" d=\"M 98.98267 224.64 \nL 129.419034 224.64 \nL 129.419034 72.349136 \nL 98.98267 72.349136 \nz\n\" style=\"fill:#1f77b4;\"/>\n   </g>\n   <g id=\"patch_5\">\n    <path clip-path=\"url(#p8c168d4ff5)\" d=\"M 129.419034 224.64 \nL 159.855398 224.64 \nL 159.855398 17.554286 \nL 129.419034 17.554286 \nz\n\" style=\"fill:#1f77b4;\"/>\n   </g>\n   <g id=\"patch_6\">\n    <path clip-path=\"url(#p8c168d4ff5)\" d=\"M 159.855398 224.64 \nL 190.291761 224.64 \nL 190.291761 93.77437 \nL 159.855398 93.77437 \nz\n\" style=\"fill:#1f77b4;\"/>\n   </g>\n   <g id=\"patch_7\">\n    <path clip-path=\"url(#p8c168d4ff5)\" d=\"M 190.291761 224.64 \nL 220.728125 224.64 \nL 220.728125 110.571157 \nL 190.291761 110.571157 \nz\n\" style=\"fill:#1f77b4;\"/>\n   </g>\n   <g id=\"patch_8\">\n    <path clip-path=\"url(#p8c168d4ff5)\" d=\"M 220.728125 224.64 \nL 251.164489 224.64 \nL 251.164489 105.569447 \nL 220.728125 105.569447 \nz\n\" style=\"fill:#1f77b4;\"/>\n   </g>\n   <g id=\"patch_9\">\n    <path clip-path=\"url(#p8c168d4ff5)\" d=\"M 251.164489 224.64 \nL 281.600852 224.64 \nL 281.600852 139.237672 \nL 251.164489 139.237672 \nz\n\" style=\"fill:#1f77b4;\"/>\n   </g>\n   <g id=\"patch_10\">\n    <path clip-path=\"url(#p8c168d4ff5)\" d=\"M 281.600852 224.64 \nL 312.037216 224.64 \nL 312.037216 156.407721 \nL 281.600852 156.407721 \nz\n\" style=\"fill:#1f77b4;\"/>\n   </g>\n   <g id=\"patch_11\">\n    <path clip-path=\"url(#p8c168d4ff5)\" d=\"M 312.037216 224.64 \nL 342.47358 224.64 \nL 342.47358 217.025457 \nL 312.037216 217.025457 \nz\n\" style=\"fill:#1f77b4;\"/>\n   </g>\n   <g id=\"patch_12\">\n    <path clip-path=\"url(#p8c168d4ff5)\" d=\"M 342.47358 224.64 \nL 372.909943 224.64 \nL 372.909943 223.968129 \nL 342.47358 223.968129 \nz\n\" style=\"fill:#1f77b4;\"/>\n   </g>\n   <g id=\"matplotlib.axis_1\">\n    <g id=\"xtick_1\">\n     <g id=\"line2d_1\">\n      <defs>\n       <path d=\"M 0 0 \nL 0 3.5 \n\" id=\"m2d108ab8e7\" style=\"stroke:#000000;stroke-width:0.8;\"/>\n      </defs>\n      <g>\n       <use style=\"stroke:#000000;stroke-width:0.8;\" x=\"68.546307\" xlink:href=\"#m2d108ab8e7\" y=\"224.64\"/>\n      </g>\n     </g>\n     <g id=\"text_1\">\n      <!-- 0 -->\n      <g transform=\"translate(65.365057 239.238437)scale(0.1 -0.1)\">\n       <defs>\n        <path d=\"M 31.78125 66.40625 \nQ 24.171875 66.40625 20.328125 58.90625 \nQ 16.5 51.421875 16.5 36.375 \nQ 16.5 21.390625 20.328125 13.890625 \nQ 24.171875 6.390625 31.78125 6.390625 \nQ 39.453125 6.390625 43.28125 13.890625 \nQ 47.125 21.390625 47.125 36.375 \nQ 47.125 51.421875 43.28125 58.90625 \nQ 39.453125 66.40625 31.78125 66.40625 \nz\nM 31.78125 74.21875 \nQ 44.046875 74.21875 50.515625 64.515625 \nQ 56.984375 54.828125 56.984375 36.375 \nQ 56.984375 17.96875 50.515625 8.265625 \nQ 44.046875 -1.421875 31.78125 -1.421875 \nQ 19.53125 -1.421875 13.0625 8.265625 \nQ 6.59375 17.96875 6.59375 36.375 \nQ 6.59375 54.828125 13.0625 64.515625 \nQ 19.53125 74.21875 31.78125 74.21875 \nz\n\" id=\"DejaVuSans-48\"/>\n       </defs>\n       <use xlink:href=\"#DejaVuSans-48\"/>\n      </g>\n     </g>\n    </g>\n    <g id=\"xtick_2\">\n     <g id=\"line2d_2\">\n      <g>\n       <use style=\"stroke:#000000;stroke-width:0.8;\" x=\"113.305665\" xlink:href=\"#m2d108ab8e7\" y=\"224.64\"/>\n      </g>\n     </g>\n     <g id=\"text_2\">\n      <!-- 5 -->\n      <g transform=\"translate(110.124415 239.238437)scale(0.1 -0.1)\">\n       <defs>\n        <path d=\"M 10.796875 72.90625 \nL 49.515625 72.90625 \nL 49.515625 64.59375 \nL 19.828125 64.59375 \nL 19.828125 46.734375 \nQ 21.96875 47.46875 24.109375 47.828125 \nQ 26.265625 48.1875 28.421875 48.1875 \nQ 40.625 48.1875 47.75 41.5 \nQ 54.890625 34.8125 54.890625 23.390625 \nQ 54.890625 11.625 47.5625 5.09375 \nQ 40.234375 -1.421875 26.90625 -1.421875 \nQ 22.3125 -1.421875 17.546875 -0.640625 \nQ 12.796875 0.140625 7.71875 1.703125 \nL 7.71875 11.625 \nQ 12.109375 9.234375 16.796875 8.0625 \nQ 21.484375 6.890625 26.703125 6.890625 \nQ 35.15625 6.890625 40.078125 11.328125 \nQ 45.015625 15.765625 45.015625 23.390625 \nQ 45.015625 31 40.078125 35.4375 \nQ 35.15625 39.890625 26.703125 39.890625 \nQ 22.75 39.890625 18.8125 39.015625 \nQ 14.890625 38.140625 10.796875 36.28125 \nz\n\" id=\"DejaVuSans-53\"/>\n       </defs>\n       <use xlink:href=\"#DejaVuSans-53\"/>\n      </g>\n     </g>\n    </g>\n    <g id=\"xtick_3\">\n     <g id=\"line2d_3\">\n      <g>\n       <use style=\"stroke:#000000;stroke-width:0.8;\" x=\"158.065023\" xlink:href=\"#m2d108ab8e7\" y=\"224.64\"/>\n      </g>\n     </g>\n     <g id=\"text_3\">\n      <!-- 10 -->\n      <g transform=\"translate(151.702523 239.238437)scale(0.1 -0.1)\">\n       <defs>\n        <path d=\"M 12.40625 8.296875 \nL 28.515625 8.296875 \nL 28.515625 63.921875 \nL 10.984375 60.40625 \nL 10.984375 69.390625 \nL 28.421875 72.90625 \nL 38.28125 72.90625 \nL 38.28125 8.296875 \nL 54.390625 8.296875 \nL 54.390625 0 \nL 12.40625 0 \nz\n\" id=\"DejaVuSans-49\"/>\n       </defs>\n       <use xlink:href=\"#DejaVuSans-49\"/>\n       <use x=\"63.623047\" xlink:href=\"#DejaVuSans-48\"/>\n      </g>\n     </g>\n    </g>\n    <g id=\"xtick_4\">\n     <g id=\"line2d_4\">\n      <g>\n       <use style=\"stroke:#000000;stroke-width:0.8;\" x=\"202.824382\" xlink:href=\"#m2d108ab8e7\" y=\"224.64\"/>\n      </g>\n     </g>\n     <g id=\"text_4\">\n      <!-- 15 -->\n      <g transform=\"translate(196.461882 239.238437)scale(0.1 -0.1)\">\n       <use xlink:href=\"#DejaVuSans-49\"/>\n       <use x=\"63.623047\" xlink:href=\"#DejaVuSans-53\"/>\n      </g>\n     </g>\n    </g>\n    <g id=\"xtick_5\">\n     <g id=\"line2d_5\">\n      <g>\n       <use style=\"stroke:#000000;stroke-width:0.8;\" x=\"247.58374\" xlink:href=\"#m2d108ab8e7\" y=\"224.64\"/>\n      </g>\n     </g>\n     <g id=\"text_5\">\n      <!-- 20 -->\n      <g transform=\"translate(241.22124 239.238437)scale(0.1 -0.1)\">\n       <defs>\n        <path d=\"M 19.1875 8.296875 \nL 53.609375 8.296875 \nL 53.609375 0 \nL 7.328125 0 \nL 7.328125 8.296875 \nQ 12.9375 14.109375 22.625 23.890625 \nQ 32.328125 33.6875 34.8125 36.53125 \nQ 39.546875 41.84375 41.421875 45.53125 \nQ 43.3125 49.21875 43.3125 52.78125 \nQ 43.3125 58.59375 39.234375 62.25 \nQ 35.15625 65.921875 28.609375 65.921875 \nQ 23.96875 65.921875 18.8125 64.3125 \nQ 13.671875 62.703125 7.8125 59.421875 \nL 7.8125 69.390625 \nQ 13.765625 71.78125 18.9375 73 \nQ 24.125 74.21875 28.421875 74.21875 \nQ 39.75 74.21875 46.484375 68.546875 \nQ 53.21875 62.890625 53.21875 53.421875 \nQ 53.21875 48.921875 51.53125 44.890625 \nQ 49.859375 40.875 45.40625 35.40625 \nQ 44.1875 33.984375 37.640625 27.21875 \nQ 31.109375 20.453125 19.1875 8.296875 \nz\n\" id=\"DejaVuSans-50\"/>\n       </defs>\n       <use xlink:href=\"#DejaVuSans-50\"/>\n       <use x=\"63.623047\" xlink:href=\"#DejaVuSans-48\"/>\n      </g>\n     </g>\n    </g>\n    <g id=\"xtick_6\">\n     <g id=\"line2d_6\">\n      <g>\n       <use style=\"stroke:#000000;stroke-width:0.8;\" x=\"292.343098\" xlink:href=\"#m2d108ab8e7\" y=\"224.64\"/>\n      </g>\n     </g>\n     <g id=\"text_6\">\n      <!-- 25 -->\n      <g transform=\"translate(285.980598 239.238437)scale(0.1 -0.1)\">\n       <use xlink:href=\"#DejaVuSans-50\"/>\n       <use x=\"63.623047\" xlink:href=\"#DejaVuSans-53\"/>\n      </g>\n     </g>\n    </g>\n    <g id=\"xtick_7\">\n     <g id=\"line2d_7\">\n      <g>\n       <use style=\"stroke:#000000;stroke-width:0.8;\" x=\"337.102457\" xlink:href=\"#m2d108ab8e7\" y=\"224.64\"/>\n      </g>\n     </g>\n     <g id=\"text_7\">\n      <!-- 30 -->\n      <g transform=\"translate(330.739957 239.238437)scale(0.1 -0.1)\">\n       <defs>\n        <path d=\"M 40.578125 39.3125 \nQ 47.65625 37.796875 51.625 33 \nQ 55.609375 28.21875 55.609375 21.1875 \nQ 55.609375 10.40625 48.1875 4.484375 \nQ 40.765625 -1.421875 27.09375 -1.421875 \nQ 22.515625 -1.421875 17.65625 -0.515625 \nQ 12.796875 0.390625 7.625 2.203125 \nL 7.625 11.71875 \nQ 11.71875 9.328125 16.59375 8.109375 \nQ 21.484375 6.890625 26.8125 6.890625 \nQ 36.078125 6.890625 40.9375 10.546875 \nQ 45.796875 14.203125 45.796875 21.1875 \nQ 45.796875 27.640625 41.28125 31.265625 \nQ 36.765625 34.90625 28.71875 34.90625 \nL 20.21875 34.90625 \nL 20.21875 43.015625 \nL 29.109375 43.015625 \nQ 36.375 43.015625 40.234375 45.921875 \nQ 44.09375 48.828125 44.09375 54.296875 \nQ 44.09375 59.90625 40.109375 62.90625 \nQ 36.140625 65.921875 28.71875 65.921875 \nQ 24.65625 65.921875 20.015625 65.03125 \nQ 15.375 64.15625 9.8125 62.3125 \nL 9.8125 71.09375 \nQ 15.4375 72.65625 20.34375 73.4375 \nQ 25.25 74.21875 29.59375 74.21875 \nQ 40.828125 74.21875 47.359375 69.109375 \nQ 53.90625 64.015625 53.90625 55.328125 \nQ 53.90625 49.265625 50.4375 45.09375 \nQ 46.96875 40.921875 40.578125 39.3125 \nz\n\" id=\"DejaVuSans-51\"/>\n       </defs>\n       <use xlink:href=\"#DejaVuSans-51\"/>\n       <use x=\"63.623047\" xlink:href=\"#DejaVuSans-48\"/>\n      </g>\n     </g>\n    </g>\n    <g id=\"xtick_8\">\n     <g id=\"line2d_8\">\n      <g>\n       <use style=\"stroke:#000000;stroke-width:0.8;\" x=\"381.861815\" xlink:href=\"#m2d108ab8e7\" y=\"224.64\"/>\n      </g>\n     </g>\n     <g id=\"text_8\">\n      <!-- 35 -->\n      <g transform=\"translate(375.499315 239.238437)scale(0.1 -0.1)\">\n       <use xlink:href=\"#DejaVuSans-51\"/>\n       <use x=\"63.623047\" xlink:href=\"#DejaVuSans-53\"/>\n      </g>\n     </g>\n    </g>\n    <g id=\"text_9\">\n     <!-- number of tokens in twitts -->\n     <g transform=\"translate(154.933594 252.916562)scale(0.1 -0.1)\">\n      <defs>\n       <path d=\"M 54.890625 33.015625 \nL 54.890625 0 \nL 45.90625 0 \nL 45.90625 32.71875 \nQ 45.90625 40.484375 42.875 44.328125 \nQ 39.84375 48.1875 33.796875 48.1875 \nQ 26.515625 48.1875 22.3125 43.546875 \nQ 18.109375 38.921875 18.109375 30.90625 \nL 18.109375 0 \nL 9.078125 0 \nL 9.078125 54.6875 \nL 18.109375 54.6875 \nL 18.109375 46.1875 \nQ 21.34375 51.125 25.703125 53.5625 \nQ 30.078125 56 35.796875 56 \nQ 45.21875 56 50.046875 50.171875 \nQ 54.890625 44.34375 54.890625 33.015625 \nz\n\" id=\"DejaVuSans-110\"/>\n       <path d=\"M 8.5 21.578125 \nL 8.5 54.6875 \nL 17.484375 54.6875 \nL 17.484375 21.921875 \nQ 17.484375 14.15625 20.5 10.265625 \nQ 23.53125 6.390625 29.59375 6.390625 \nQ 36.859375 6.390625 41.078125 11.03125 \nQ 45.3125 15.671875 45.3125 23.6875 \nL 45.3125 54.6875 \nL 54.296875 54.6875 \nL 54.296875 0 \nL 45.3125 0 \nL 45.3125 8.40625 \nQ 42.046875 3.421875 37.71875 1 \nQ 33.40625 -1.421875 27.6875 -1.421875 \nQ 18.265625 -1.421875 13.375 4.4375 \nQ 8.5 10.296875 8.5 21.578125 \nz\nM 31.109375 56 \nz\n\" id=\"DejaVuSans-117\"/>\n       <path d=\"M 52 44.1875 \nQ 55.375 50.25 60.0625 53.125 \nQ 64.75 56 71.09375 56 \nQ 79.640625 56 84.28125 50.015625 \nQ 88.921875 44.046875 88.921875 33.015625 \nL 88.921875 0 \nL 79.890625 0 \nL 79.890625 32.71875 \nQ 79.890625 40.578125 77.09375 44.375 \nQ 74.3125 48.1875 68.609375 48.1875 \nQ 61.625 48.1875 57.5625 43.546875 \nQ 53.515625 38.921875 53.515625 30.90625 \nL 53.515625 0 \nL 44.484375 0 \nL 44.484375 32.71875 \nQ 44.484375 40.625 41.703125 44.40625 \nQ 38.921875 48.1875 33.109375 48.1875 \nQ 26.21875 48.1875 22.15625 43.53125 \nQ 18.109375 38.875 18.109375 30.90625 \nL 18.109375 0 \nL 9.078125 0 \nL 9.078125 54.6875 \nL 18.109375 54.6875 \nL 18.109375 46.1875 \nQ 21.1875 51.21875 25.484375 53.609375 \nQ 29.78125 56 35.6875 56 \nQ 41.65625 56 45.828125 52.96875 \nQ 50 49.953125 52 44.1875 \nz\n\" id=\"DejaVuSans-109\"/>\n       <path d=\"M 48.6875 27.296875 \nQ 48.6875 37.203125 44.609375 42.84375 \nQ 40.53125 48.484375 33.40625 48.484375 \nQ 26.265625 48.484375 22.1875 42.84375 \nQ 18.109375 37.203125 18.109375 27.296875 \nQ 18.109375 17.390625 22.1875 11.75 \nQ 26.265625 6.109375 33.40625 6.109375 \nQ 40.53125 6.109375 44.609375 11.75 \nQ 48.6875 17.390625 48.6875 27.296875 \nz\nM 18.109375 46.390625 \nQ 20.953125 51.265625 25.265625 53.625 \nQ 29.59375 56 35.59375 56 \nQ 45.5625 56 51.78125 48.09375 \nQ 58.015625 40.1875 58.015625 27.296875 \nQ 58.015625 14.40625 51.78125 6.484375 \nQ 45.5625 -1.421875 35.59375 -1.421875 \nQ 29.59375 -1.421875 25.265625 0.953125 \nQ 20.953125 3.328125 18.109375 8.203125 \nL 18.109375 0 \nL 9.078125 0 \nL 9.078125 75.984375 \nL 18.109375 75.984375 \nz\n\" id=\"DejaVuSans-98\"/>\n       <path d=\"M 56.203125 29.59375 \nL 56.203125 25.203125 \nL 14.890625 25.203125 \nQ 15.484375 15.921875 20.484375 11.0625 \nQ 25.484375 6.203125 34.421875 6.203125 \nQ 39.59375 6.203125 44.453125 7.46875 \nQ 49.3125 8.734375 54.109375 11.28125 \nL 54.109375 2.78125 \nQ 49.265625 0.734375 44.1875 -0.34375 \nQ 39.109375 -1.421875 33.890625 -1.421875 \nQ 20.796875 -1.421875 13.15625 6.1875 \nQ 5.515625 13.8125 5.515625 26.8125 \nQ 5.515625 40.234375 12.765625 48.109375 \nQ 20.015625 56 32.328125 56 \nQ 43.359375 56 49.78125 48.890625 \nQ 56.203125 41.796875 56.203125 29.59375 \nz\nM 47.21875 32.234375 \nQ 47.125 39.59375 43.09375 43.984375 \nQ 39.0625 48.390625 32.421875 48.390625 \nQ 24.90625 48.390625 20.390625 44.140625 \nQ 15.875 39.890625 15.1875 32.171875 \nz\n\" id=\"DejaVuSans-101\"/>\n       <path d=\"M 41.109375 46.296875 \nQ 39.59375 47.171875 37.8125 47.578125 \nQ 36.03125 48 33.890625 48 \nQ 26.265625 48 22.1875 43.046875 \nQ 18.109375 38.09375 18.109375 28.8125 \nL 18.109375 0 \nL 9.078125 0 \nL 9.078125 54.6875 \nL 18.109375 54.6875 \nL 18.109375 46.1875 \nQ 20.953125 51.171875 25.484375 53.578125 \nQ 30.03125 56 36.53125 56 \nQ 37.453125 56 38.578125 55.875 \nQ 39.703125 55.765625 41.0625 55.515625 \nz\n\" id=\"DejaVuSans-114\"/>\n       <path id=\"DejaVuSans-32\"/>\n       <path d=\"M 30.609375 48.390625 \nQ 23.390625 48.390625 19.1875 42.75 \nQ 14.984375 37.109375 14.984375 27.296875 \nQ 14.984375 17.484375 19.15625 11.84375 \nQ 23.34375 6.203125 30.609375 6.203125 \nQ 37.796875 6.203125 41.984375 11.859375 \nQ 46.1875 17.53125 46.1875 27.296875 \nQ 46.1875 37.015625 41.984375 42.703125 \nQ 37.796875 48.390625 30.609375 48.390625 \nz\nM 30.609375 56 \nQ 42.328125 56 49.015625 48.375 \nQ 55.71875 40.765625 55.71875 27.296875 \nQ 55.71875 13.875 49.015625 6.21875 \nQ 42.328125 -1.421875 30.609375 -1.421875 \nQ 18.84375 -1.421875 12.171875 6.21875 \nQ 5.515625 13.875 5.515625 27.296875 \nQ 5.515625 40.765625 12.171875 48.375 \nQ 18.84375 56 30.609375 56 \nz\n\" id=\"DejaVuSans-111\"/>\n       <path d=\"M 37.109375 75.984375 \nL 37.109375 68.5 \nL 28.515625 68.5 \nQ 23.6875 68.5 21.796875 66.546875 \nQ 19.921875 64.59375 19.921875 59.515625 \nL 19.921875 54.6875 \nL 34.71875 54.6875 \nL 34.71875 47.703125 \nL 19.921875 47.703125 \nL 19.921875 0 \nL 10.890625 0 \nL 10.890625 47.703125 \nL 2.296875 47.703125 \nL 2.296875 54.6875 \nL 10.890625 54.6875 \nL 10.890625 58.5 \nQ 10.890625 67.625 15.140625 71.796875 \nQ 19.390625 75.984375 28.609375 75.984375 \nz\n\" id=\"DejaVuSans-102\"/>\n       <path d=\"M 18.3125 70.21875 \nL 18.3125 54.6875 \nL 36.8125 54.6875 \nL 36.8125 47.703125 \nL 18.3125 47.703125 \nL 18.3125 18.015625 \nQ 18.3125 11.328125 20.140625 9.421875 \nQ 21.96875 7.515625 27.59375 7.515625 \nL 36.8125 7.515625 \nL 36.8125 0 \nL 27.59375 0 \nQ 17.1875 0 13.234375 3.875 \nQ 9.28125 7.765625 9.28125 18.015625 \nL 9.28125 47.703125 \nL 2.6875 47.703125 \nL 2.6875 54.6875 \nL 9.28125 54.6875 \nL 9.28125 70.21875 \nz\n\" id=\"DejaVuSans-116\"/>\n       <path d=\"M 9.078125 75.984375 \nL 18.109375 75.984375 \nL 18.109375 31.109375 \nL 44.921875 54.6875 \nL 56.390625 54.6875 \nL 27.390625 29.109375 \nL 57.625 0 \nL 45.90625 0 \nL 18.109375 26.703125 \nL 18.109375 0 \nL 9.078125 0 \nz\n\" id=\"DejaVuSans-107\"/>\n       <path d=\"M 44.28125 53.078125 \nL 44.28125 44.578125 \nQ 40.484375 46.53125 36.375 47.5 \nQ 32.28125 48.484375 27.875 48.484375 \nQ 21.1875 48.484375 17.84375 46.4375 \nQ 14.5 44.390625 14.5 40.28125 \nQ 14.5 37.15625 16.890625 35.375 \nQ 19.28125 33.59375 26.515625 31.984375 \nL 29.59375 31.296875 \nQ 39.15625 29.25 43.1875 25.515625 \nQ 47.21875 21.78125 47.21875 15.09375 \nQ 47.21875 7.46875 41.1875 3.015625 \nQ 35.15625 -1.421875 24.609375 -1.421875 \nQ 20.21875 -1.421875 15.453125 -0.5625 \nQ 10.6875 0.296875 5.421875 2 \nL 5.421875 11.28125 \nQ 10.40625 8.6875 15.234375 7.390625 \nQ 20.0625 6.109375 24.8125 6.109375 \nQ 31.15625 6.109375 34.5625 8.28125 \nQ 37.984375 10.453125 37.984375 14.40625 \nQ 37.984375 18.0625 35.515625 20.015625 \nQ 33.0625 21.96875 24.703125 23.78125 \nL 21.578125 24.515625 \nQ 13.234375 26.265625 9.515625 29.90625 \nQ 5.8125 33.546875 5.8125 39.890625 \nQ 5.8125 47.609375 11.28125 51.796875 \nQ 16.75 56 26.8125 56 \nQ 31.78125 56 36.171875 55.265625 \nQ 40.578125 54.546875 44.28125 53.078125 \nz\n\" id=\"DejaVuSans-115\"/>\n       <path d=\"M 9.421875 54.6875 \nL 18.40625 54.6875 \nL 18.40625 0 \nL 9.421875 0 \nz\nM 9.421875 75.984375 \nL 18.40625 75.984375 \nL 18.40625 64.59375 \nL 9.421875 64.59375 \nz\n\" id=\"DejaVuSans-105\"/>\n       <path d=\"M 4.203125 54.6875 \nL 13.1875 54.6875 \nL 24.421875 12.015625 \nL 35.59375 54.6875 \nL 46.1875 54.6875 \nL 57.421875 12.015625 \nL 68.609375 54.6875 \nL 77.59375 54.6875 \nL 63.28125 0 \nL 52.6875 0 \nL 40.921875 44.828125 \nL 29.109375 0 \nL 18.5 0 \nz\n\" id=\"DejaVuSans-119\"/>\n      </defs>\n      <use xlink:href=\"#DejaVuSans-110\"/>\n      <use x=\"63.378906\" xlink:href=\"#DejaVuSans-117\"/>\n      <use x=\"126.757812\" xlink:href=\"#DejaVuSans-109\"/>\n      <use x=\"224.169922\" xlink:href=\"#DejaVuSans-98\"/>\n      <use x=\"287.646484\" xlink:href=\"#DejaVuSans-101\"/>\n      <use x=\"349.169922\" xlink:href=\"#DejaVuSans-114\"/>\n      <use x=\"390.283203\" xlink:href=\"#DejaVuSans-32\"/>\n      <use x=\"422.070312\" xlink:href=\"#DejaVuSans-111\"/>\n      <use x=\"483.251953\" xlink:href=\"#DejaVuSans-102\"/>\n      <use x=\"518.457031\" xlink:href=\"#DejaVuSans-32\"/>\n      <use x=\"550.244141\" xlink:href=\"#DejaVuSans-116\"/>\n      <use x=\"589.453125\" xlink:href=\"#DejaVuSans-111\"/>\n      <use x=\"650.634766\" xlink:href=\"#DejaVuSans-107\"/>\n      <use x=\"704.919922\" xlink:href=\"#DejaVuSans-101\"/>\n      <use x=\"766.443359\" xlink:href=\"#DejaVuSans-110\"/>\n      <use x=\"829.822266\" xlink:href=\"#DejaVuSans-115\"/>\n      <use x=\"881.921875\" xlink:href=\"#DejaVuSans-32\"/>\n      <use x=\"913.708984\" xlink:href=\"#DejaVuSans-105\"/>\n      <use x=\"941.492188\" xlink:href=\"#DejaVuSans-110\"/>\n      <use x=\"1004.871094\" xlink:href=\"#DejaVuSans-32\"/>\n      <use x=\"1036.658203\" xlink:href=\"#DejaVuSans-116\"/>\n      <use x=\"1075.867188\" xlink:href=\"#DejaVuSans-119\"/>\n      <use x=\"1157.654297\" xlink:href=\"#DejaVuSans-105\"/>\n      <use x=\"1185.4375\" xlink:href=\"#DejaVuSans-116\"/>\n      <use x=\"1224.646484\" xlink:href=\"#DejaVuSans-116\"/>\n      <use x=\"1263.855469\" xlink:href=\"#DejaVuSans-115\"/>\n     </g>\n    </g>\n   </g>\n   <g id=\"matplotlib.axis_2\">\n    <g id=\"ytick_1\">\n     <g id=\"line2d_9\">\n      <defs>\n       <path d=\"M 0 0 \nL -3.5 0 \n\" id=\"m4cc1304869\" style=\"stroke:#000000;stroke-width:0.8;\"/>\n      </defs>\n      <g>\n       <use style=\"stroke:#000000;stroke-width:0.8;\" x=\"53.328125\" xlink:href=\"#m4cc1304869\" y=\"224.64\"/>\n      </g>\n     </g>\n     <g id=\"text_10\">\n      <!-- 0 -->\n      <g transform=\"translate(39.965625 228.439219)scale(0.1 -0.1)\">\n       <use xlink:href=\"#DejaVuSans-48\"/>\n      </g>\n     </g>\n    </g>\n    <g id=\"ytick_2\">\n     <g id=\"line2d_10\">\n      <g>\n       <use style=\"stroke:#000000;stroke-width:0.8;\" x=\"53.328125\" xlink:href=\"#m4cc1304869\" y=\"187.313808\"/>\n      </g>\n     </g>\n     <g id=\"text_11\">\n      <!-- 500 -->\n      <g transform=\"translate(27.240625 191.113027)scale(0.1 -0.1)\">\n       <use xlink:href=\"#DejaVuSans-53\"/>\n       <use x=\"63.623047\" xlink:href=\"#DejaVuSans-48\"/>\n       <use x=\"127.246094\" xlink:href=\"#DejaVuSans-48\"/>\n      </g>\n     </g>\n    </g>\n    <g id=\"ytick_3\">\n     <g id=\"line2d_11\">\n      <g>\n       <use style=\"stroke:#000000;stroke-width:0.8;\" x=\"53.328125\" xlink:href=\"#m4cc1304869\" y=\"149.987616\"/>\n      </g>\n     </g>\n     <g id=\"text_12\">\n      <!-- 1000 -->\n      <g transform=\"translate(20.878125 153.786834)scale(0.1 -0.1)\">\n       <use xlink:href=\"#DejaVuSans-49\"/>\n       <use x=\"63.623047\" xlink:href=\"#DejaVuSans-48\"/>\n       <use x=\"127.246094\" xlink:href=\"#DejaVuSans-48\"/>\n       <use x=\"190.869141\" xlink:href=\"#DejaVuSans-48\"/>\n      </g>\n     </g>\n    </g>\n    <g id=\"ytick_4\">\n     <g id=\"line2d_12\">\n      <g>\n       <use style=\"stroke:#000000;stroke-width:0.8;\" x=\"53.328125\" xlink:href=\"#m4cc1304869\" y=\"112.661423\"/>\n      </g>\n     </g>\n     <g id=\"text_13\">\n      <!-- 1500 -->\n      <g transform=\"translate(20.878125 116.460642)scale(0.1 -0.1)\">\n       <use xlink:href=\"#DejaVuSans-49\"/>\n       <use x=\"63.623047\" xlink:href=\"#DejaVuSans-53\"/>\n       <use x=\"127.246094\" xlink:href=\"#DejaVuSans-48\"/>\n       <use x=\"190.869141\" xlink:href=\"#DejaVuSans-48\"/>\n      </g>\n     </g>\n    </g>\n    <g id=\"ytick_5\">\n     <g id=\"line2d_13\">\n      <g>\n       <use style=\"stroke:#000000;stroke-width:0.8;\" x=\"53.328125\" xlink:href=\"#m4cc1304869\" y=\"75.335231\"/>\n      </g>\n     </g>\n     <g id=\"text_14\">\n      <!-- 2000 -->\n      <g transform=\"translate(20.878125 79.13445)scale(0.1 -0.1)\">\n       <use xlink:href=\"#DejaVuSans-50\"/>\n       <use x=\"63.623047\" xlink:href=\"#DejaVuSans-48\"/>\n       <use x=\"127.246094\" xlink:href=\"#DejaVuSans-48\"/>\n       <use x=\"190.869141\" xlink:href=\"#DejaVuSans-48\"/>\n      </g>\n     </g>\n    </g>\n    <g id=\"ytick_6\">\n     <g id=\"line2d_14\">\n      <g>\n       <use style=\"stroke:#000000;stroke-width:0.8;\" x=\"53.328125\" xlink:href=\"#m4cc1304869\" y=\"38.009039\"/>\n      </g>\n     </g>\n     <g id=\"text_15\">\n      <!-- 2500 -->\n      <g transform=\"translate(20.878125 41.808258)scale(0.1 -0.1)\">\n       <use xlink:href=\"#DejaVuSans-50\"/>\n       <use x=\"63.623047\" xlink:href=\"#DejaVuSans-53\"/>\n       <use x=\"127.246094\" xlink:href=\"#DejaVuSans-48\"/>\n       <use x=\"190.869141\" xlink:href=\"#DejaVuSans-48\"/>\n      </g>\n     </g>\n    </g>\n    <g id=\"text_16\">\n     <!-- freq -->\n     <g transform=\"translate(14.798438 125.873906)rotate(-90)scale(0.1 -0.1)\">\n      <defs>\n       <path d=\"M 14.796875 27.296875 \nQ 14.796875 17.390625 18.875 11.75 \nQ 22.953125 6.109375 30.078125 6.109375 \nQ 37.203125 6.109375 41.296875 11.75 \nQ 45.40625 17.390625 45.40625 27.296875 \nQ 45.40625 37.203125 41.296875 42.84375 \nQ 37.203125 48.484375 30.078125 48.484375 \nQ 22.953125 48.484375 18.875 42.84375 \nQ 14.796875 37.203125 14.796875 27.296875 \nz\nM 45.40625 8.203125 \nQ 42.578125 3.328125 38.25 0.953125 \nQ 33.9375 -1.421875 27.875 -1.421875 \nQ 17.96875 -1.421875 11.734375 6.484375 \nQ 5.515625 14.40625 5.515625 27.296875 \nQ 5.515625 40.1875 11.734375 48.09375 \nQ 17.96875 56 27.875 56 \nQ 33.9375 56 38.25 53.625 \nQ 42.578125 51.265625 45.40625 46.390625 \nL 45.40625 54.6875 \nL 54.390625 54.6875 \nL 54.390625 -20.796875 \nL 45.40625 -20.796875 \nz\n\" id=\"DejaVuSans-113\"/>\n      </defs>\n      <use xlink:href=\"#DejaVuSans-102\"/>\n      <use x=\"35.205078\" xlink:href=\"#DejaVuSans-114\"/>\n      <use x=\"74.068359\" xlink:href=\"#DejaVuSans-101\"/>\n      <use x=\"135.591797\" xlink:href=\"#DejaVuSans-113\"/>\n     </g>\n    </g>\n   </g>\n   <g id=\"patch_13\">\n    <path d=\"M 53.328125 224.64 \nL 53.328125 7.2 \n\" style=\"fill:none;stroke:#000000;stroke-linecap:square;stroke-linejoin:miter;stroke-width:0.8;\"/>\n   </g>\n   <g id=\"patch_14\">\n    <path d=\"M 388.128125 224.64 \nL 388.128125 7.2 \n\" style=\"fill:none;stroke:#000000;stroke-linecap:square;stroke-linejoin:miter;stroke-width:0.8;\"/>\n   </g>\n   <g id=\"patch_15\">\n    <path d=\"M 53.328125 224.64 \nL 388.128125 224.64 \n\" style=\"fill:none;stroke:#000000;stroke-linecap:square;stroke-linejoin:miter;stroke-width:0.8;\"/>\n   </g>\n   <g id=\"patch_16\">\n    <path d=\"M 53.328125 7.2 \nL 388.128125 7.2 \n\" style=\"fill:none;stroke:#000000;stroke-linecap:square;stroke-linejoin:miter;stroke-width:0.8;\"/>\n   </g>\n  </g>\n </g>\n <defs>\n  <clipPath id=\"p8c168d4ff5\">\n   <rect height=\"217.44\" width=\"334.8\" x=\"53.328125\" y=\"7.2\"/>\n  </clipPath>\n </defs>\n</svg>\n",
      "image/png": "[encoded data removed]"
     },
     "metadata": {
      "needs_background": "light"
     }
    }
   ],
   "source": [
    "lenght = [len(i) for i in train_data_token]\n",
    "plt.hist(lenght)\n",
    "plt.xlabel(\"number of tokens in twitts\")\n",
    "plt.ylabel(\"freq\")"
   ]
  },
  {
   "cell_type": "code",
   "execution_count": 30,
   "metadata": {},
   "outputs": [],
   "source": [
    "def padding_same_length(data,lenght = 30):\n",
    "    \"\"\"Pad twitts with lesser number of tokens than the lenght threshold.\n",
    "\n",
    "    Parameters\n",
    "    -----------\n",
    "    data : list\n",
    "        Twitts converted to tokens\n",
    "    lenght : int\n",
    "        Threshold to be us to trim the length of the list of tokens\n",
    "    \n",
    "    Returns\n",
    "    -----------\n",
    "    data_lenght : list\n",
    "        Twitts converted to tokens trimmed by the threshold or twitts with padding\n",
    "\n",
    "    \"\"\"\n",
    "    data_copy = data.copy()\n",
    "    data_lenght = []\n",
    "    for tweet in data_copy:\n",
    "        if len(tweet) < lenght:\n",
    "            i = len(tweet)\n",
    "            while i < lenght:\n",
    "                tweet.insert(0,'<pad>')\n",
    "                i += 1\n",
    "        elif len(tweet) > lenght:\n",
    "            tweet = tweet[0:lenght]\n",
    "        data_lenght.append(tweet)\n",
    "    return data_lenght"
   ]
  },
  {
   "cell_type": "code",
   "execution_count": 31,
   "metadata": {},
   "outputs": [],
   "source": [
    "train_data_lenght = padding_same_length(train_data_non_empty,30)\n",
    "test_data_lenght = padding_same_length(test_data_non_empty,30)"
   ]
  },
  {
   "source": [
    "## GloVe and Batching\n",
    "This section will cover the use of Glove and Batching.\n",
    "### Glove\n",
    "The objective of using Glove in this problem is to reduce the dimensionality of words. The classic solution is to convert the words into one-hot encoding representation. But this method has two problems: first, the dimensionality of the vector is going to be 20 thousand, which is large; second, there is no possibility to relate two closest words. GloVe solves these two problems by representing a word as a vector. This vector has a low dimension and it can be used to compare words by using, for example, cosine similarity.\n",
    "  \n",
    "In this tutorial we are going to use a pretrained word-vector called “Twitter.27B” which was trained by using 2B of tweets, 27B tokens and 1.2M in vocabulary size. It will be used 25 dimensions in the vector."
   ],
   "cell_type": "markdown",
   "metadata": {}
  },
  {
   "cell_type": "code",
   "execution_count": 32,
   "metadata": {},
   "outputs": [],
   "source": [
    "embedding = GloVe(name='twitter.27B', dim = 25)"
   ]
  },
  {
   "cell_type": "code",
   "execution_count": 33,
   "metadata": {},
   "outputs": [
    {
     "output_type": "execute_result",
     "data": {
      "text/plain": [
       "tensor([-1.0167e-02,  2.0194e-02,  2.1473e-01,  1.7289e-01, -4.3659e-01,\n",
       "        -1.4687e-01,  1.8429e+00, -1.5753e-01,  1.8187e-01, -3.1782e-01,\n",
       "         6.8390e-02,  5.1776e-01, -6.3371e+00,  4.8066e-01,  1.3777e-01,\n",
       "        -4.8568e-01,  3.9000e-01, -1.9506e-03, -1.0218e-01,  2.1262e-01,\n",
       "        -8.6146e-01,  1.7263e-01,  1.8783e-01, -8.4250e-01, -3.1208e-01])"
      ]
     },
     "metadata": {},
     "execution_count": 33
    }
   ],
   "source": [
    "embedding['the']"
   ]
  },
  {
   "source": [
    "Also, the word “<pad\\>” will have a zero vector representation:"
   ],
   "cell_type": "markdown",
   "metadata": {}
  },
  {
   "cell_type": "code",
   "execution_count": 34,
   "metadata": {},
   "outputs": [
    {
     "output_type": "execute_result",
     "data": {
      "text/plain": [
       "tensor([0., 0., 0., 0., 0., 0., 0., 0., 0., 0., 0., 0., 0., 0., 0., 0., 0., 0., 0., 0., 0., 0., 0., 0.,\n",
       "        0.])"
      ]
     },
     "metadata": {},
     "execution_count": 34
    }
   ],
   "source": [
    "embedding['<pad>']"
   ]
  },
  {
   "source": [
    "Now, we can convert the tokens into a vector representation. The implementation will be that the vector will be saved in a dictionary based on the “trimmed” dictionary, so the token can be query faster."
   ],
   "cell_type": "markdown",
   "metadata": {}
  },
  {
   "cell_type": "code",
   "execution_count": 35,
   "metadata": {},
   "outputs": [],
   "source": [
    "embedding_vocabulary = {}\n",
    "for i in vocabulary.keys():\n",
    "    embedding_vocabulary[i] = embedding[i]\n",
    "\n",
    "def convert_token_to_vector(data,vocab):\n",
    "    \"\"\"Convert each token to vector by using Glove and the vocabulary\n",
    "\n",
    "    Parameters\n",
    "    -----------\n",
    "    data : list\n",
    "        Twitts converted to tokens\n",
    "    vocab : dictionary\n",
    "        Dictionary of uniqye tokens\n",
    "    \n",
    "    Returns\n",
    "    -----------\n",
    "    X_train_emb : list\n",
    "        Twitts converted to vectors\n",
    "\n",
    "    \"\"\"\n",
    "    X_train_emb = []\n",
    "    for twitts in data:\n",
    "        twitt_emb = []\n",
    "        for token in twitts:\n",
    "            if token in vocab:\n",
    "                twitt_emb.append(vocab[token])\n",
    "            else:\n",
    "                twitt_emb.append(torch.zeros(25))\n",
    "        X_train_emb.append(twitt_emb)\n",
    "    return X_train_emb\n",
    "\n",
    "X_train = convert_token_to_vector(train_data_lenght,embedding_vocabulary)\n",
    "X_test = convert_token_to_vector(test_data_lenght,embedding_vocabulary)\n",
    "y_train = train_label_converted\n",
    "y_test = test_label_converted"
   ]
  },
  {
   "source": [
    "Finally, the embedding dataset will be dropped to free memory."
   ],
   "cell_type": "markdown",
   "metadata": {}
  },
  {
   "cell_type": "code",
   "execution_count": 36,
   "metadata": {},
   "outputs": [],
   "source": [
    "%reset_selective -f embedding"
   ]
  },
  {
   "source": [
    "### Create Batch\n",
    "With the data represented by vectors, we are almost set to train the models. But first we need to create a DataLoader in which the model can be use the data through batches. This implementation uses torch.utils.data.Dataset API, in which the requirement is that the data must have two methods: first, it needs to calculate the number of elements in the training/test set; second, it needs a method which can return data from an index."
   ],
   "cell_type": "markdown",
   "metadata": {}
  },
  {
   "cell_type": "code",
   "execution_count": 37,
   "metadata": {},
   "outputs": [],
   "source": [
    "class Dataset(torch.utils.data.Dataset):\n",
    "  'Characterizes a dataset for PyTorch'\n",
    "  def __init__(self, set, labels):\n",
    "        'Initialization'\n",
    "        self.labels = labels\n",
    "        self.set = set\n",
    "\n",
    "  def __len__(self):\n",
    "        'Denotes the total number of samples'\n",
    "        return len(self.labels)\n",
    "\n",
    "  def __getitem__(self, index):\n",
    "        'Generates one sample of data'\n",
    "\n",
    "        X = self.set[index]\n",
    "        X = torch.stack(X)\n",
    "        y = self.labels[index]\n",
    "\n",
    "        return X, y"
   ]
  },
  {
   "source": [
    "I am using torch.stack to convert the lists into tensors. Finally, a DataLoader can be built by using the above class."
   ],
   "cell_type": "markdown",
   "metadata": {}
  },
  {
   "cell_type": "code",
   "execution_count": 38,
   "metadata": {},
   "outputs": [],
   "source": [
    "df_train = Dataset(X_train,y_train)\n",
    "df_test = Dataset(X_test,y_test)"
   ]
  },
  {
   "source": [
    "## Deep Learning\n",
    "This chapter is divided in explaining LSTM architecture and the implementation of the model.\n",
    "### LSTM\n",
    "It stands for Long Short-Term Memory and it is classified as a Recurrent Neural Network (RRN). Ordinary RRNs are tools which deal with sequence data, and this property makes it very attractive in classifying sentiments. One of the sequence model’s problem is not having the ability to remember long term memory, by losing impacts of very early events in the sequence. In the opposite, LSTMs are sequence models which solve this problem, they are capable to retain important data in its memory and it can preserve it in the long term. Hence, this type of model can have either long and short term memory.\n",
    "  \n",
    "Compared with ordinary RRNs, LSTMs have two inputs and outputs:\n",
    "- Memory cell: contains the data to be saved or removed during the time.\n",
    "- Hidden state: contains the parameters of the RNN.\n",
    "\n",
    "There are three gates to either add or remove data from the memory cell. Each gate is built by a Neural Network (NN), a sigmoid function and a multiplier factor. The three gates are:\n",
    "- Forget gate: Allows deletion of data from the memory cell.\n",
    "- Update gate with candidate memory: Allows addition of new data into the memory cell.\n",
    "- Output gate: Allows to update the parameters in the hidden state."
   ],
   "cell_type": "markdown",
   "metadata": {}
  },
  {
   "cell_type": "code",
   "execution_count": 44,
   "metadata": {},
   "outputs": [],
   "source": [
    "# device configuration\n",
    "device = torch.device('cuda' if torch.cuda.is_available() else 'cpu')\n",
    "\n",
    "\n",
    "# Hyper-parameters\n",
    "input_size = 25\n",
    "sequence_lenght = 30\n",
    "hidden_size = 500\n",
    "num_classes = 2\n",
    "num_epochs = 20\n",
    "batch_size = 200\n",
    "learning_rate = 0.001\n",
    "num_layers = 3\n",
    "\n",
    "train_loader = torch.utils.data.DataLoader(df_train,batch_size=batch_size,shuffle=True,drop_last = True)\n",
    "test_loader = torch.utils.data.DataLoader(df_test,batch_size=batch_size,shuffle=True,drop_last = True)"
   ]
  },
  {
   "cell_type": "code",
   "execution_count": 45,
   "metadata": {},
   "outputs": [],
   "source": [
    "class LSTM(nn.Module):\n",
    "    def __init__(self,input_size,hidden_state,num_layers,num_classes):\n",
    "        super(LSTM,self).__init__()\n",
    "        self.num_layers = num_layers\n",
    "        self.hidden_size = hidden_size\n",
    "        self.lstm = nn.LSTM(input_size,hidden_size,num_layers, batch_first = True)\n",
    "        # x -> batchsize, sequence, input_size\n",
    "        self.fc = nn.Linear(hidden_size, num_classes)\n",
    "\n",
    "    def forward(self, x):\n",
    "        # Set initial hidden states (and cell states for LSTM)\n",
    "        h0 = torch.zeros(self.num_layers, x.size(0), self.hidden_size).to(device)\n",
    "        c0 = torch.zeros(self.num_layers, x.size(0), self.hidden_size).to(device) \n",
    "        \n",
    "        # x: (n, 30, 25), h0: (2, n, 128)\n",
    "        \n",
    "        # Forward propagate LSTM\n",
    "        out, _ = self.lstm(x, (h0,c0))  \n",
    "        \n",
    "        # out: tensor of shape (batch_size, seq_length, hidden_size)\n",
    "        # out: (n, 30, 128)\n",
    "        \n",
    "        # Decode the hidden state of the last time step\n",
    "        out = out[:, -1, :]\n",
    "        # out: (n, 128)\n",
    "         \n",
    "        out = self.fc(out)\n",
    "        # out: (n, 2)\n",
    "        return out"
   ]
  },
  {
   "cell_type": "code",
   "execution_count": 46,
   "metadata": {},
   "outputs": [],
   "source": [
    "model = LSTM(input_size,hidden_size,num_layers,num_classes).to(device)\n",
    "# Loss and optimizer\n",
    "criterion = nn.CrossEntropyLoss()\n",
    "optimizer = torch.optim.Adam(model.parameters(), lr=learning_rate)"
   ]
  },
  {
   "cell_type": "code",
   "execution_count": 47,
   "metadata": {
    "tags": []
   },
   "outputs": [
    {
     "output_type": "stream",
     "name": "stdout",
     "text": [
      "Epoch [1/20], Loss: 0.5811\n",
      "Accuracy of the network on the test twitts: 65.33333333333333 %\n",
      "Epoch [2/20], Loss: 0.6449\n",
      "Accuracy of the network on the test twitts: 66.43333333333334 %\n",
      "Epoch [3/20], Loss: 0.6147\n",
      "Accuracy of the network on the test twitts: 66.46666666666667 %\n",
      "Epoch [4/20], Loss: 0.6339\n",
      "Accuracy of the network on the test twitts: 68.13333333333334 %\n",
      "Epoch [5/20], Loss: 0.5505\n",
      "Accuracy of the network on the test twitts: 67.2 %\n",
      "Epoch [6/20], Loss: 0.5985\n",
      "Accuracy of the network on the test twitts: 68.56666666666666 %\n",
      "Epoch [7/20], Loss: 0.5124\n",
      "Accuracy of the network on the test twitts: 70.33333333333333 %\n",
      "Epoch [8/20], Loss: 0.5591\n",
      "Accuracy of the network on the test twitts: 70.26666666666667 %\n",
      "Epoch [9/20], Loss: 0.5254\n",
      "Accuracy of the network on the test twitts: 70.16666666666667 %\n",
      "Epoch [10/20], Loss: 0.5946\n",
      "Accuracy of the network on the test twitts: 71.96666666666667 %\n",
      "Epoch [11/20], Loss: 0.5441\n",
      "Accuracy of the network on the test twitts: 70.3 %\n",
      "Epoch [12/20], Loss: 0.4548\n",
      "Accuracy of the network on the test twitts: 71.6 %\n",
      "Epoch [13/20], Loss: 0.4832\n",
      "Accuracy of the network on the test twitts: 71.6 %\n",
      "Epoch [14/20], Loss: 0.4399\n",
      "Accuracy of the network on the test twitts: 70.7 %\n",
      "Epoch [15/20], Loss: 0.3766\n",
      "Accuracy of the network on the test twitts: 69.8 %\n",
      "Epoch [16/20], Loss: 0.3829\n",
      "Accuracy of the network on the test twitts: 69.56666666666666 %\n",
      "Epoch [17/20], Loss: 0.3757\n",
      "Accuracy of the network on the test twitts: 69.76666666666667 %\n",
      "Epoch [18/20], Loss: 0.3137\n",
      "Accuracy of the network on the test twitts: 69.56666666666666 %\n",
      "Epoch [19/20], Loss: 0.2692\n",
      "Accuracy of the network on the test twitts: 67.9 %\n",
      "Epoch [20/20], Loss: 0.3093\n",
      "Accuracy of the network on the test twitts: 69.06666666666666 %\n"
     ]
    }
   ],
   "source": [
    "# Train the model\n",
    "n_total_steps = len(train_loader)\n",
    "for epoch in range(num_epochs):\n",
    "    for i, (twitts, labels) in enumerate(train_loader):  \n",
    "        # size: [N, 30, 25]\n",
    "        twitts = twitts.to(device)\n",
    "        labels = labels.to(device)\n",
    "\n",
    "        optimizer.zero_grad()\n",
    "        \n",
    "        # Forward pass\n",
    "        outputs = model(twitts)\n",
    "        loss = criterion(outputs, labels)\n",
    "        \n",
    "        # Backward and optimize\n",
    "        \n",
    "        loss.backward()\n",
    "        optimizer.step()\n",
    "\n",
    "    print (f'Epoch [{epoch+1}/{num_epochs}], Loss: {loss.item():.4f}')\n",
    "    with torch.no_grad():\n",
    "        n_correct = 0\n",
    "        n_samples = 0\n",
    "        for twitts, labels in test_loader:\n",
    "            twitts = twitts.to(device)\n",
    "            labels = labels.to(device)\n",
    "            outputs = model(twitts)\n",
    "            # max returns (value ,index)\n",
    "            _, predicted = torch.max(outputs.data, 1)\n",
    "            n_samples += labels.size(0)\n",
    "            n_correct += (predicted == labels).sum().item()\n",
    "\n",
    "        acc = 100.0 * n_correct / n_samples\n",
    "        print(f'Accuracy of the network on the test twitts: {acc} %')"
   ]
  },
  {
   "source": [
    "## Conclusion\n",
    "By using a standard architecture we can reach up to 71.6% of accuracy on sentiment classification. This KPI can be improved considering that in this example we used:\n",
    "- only 12800 twitts from the 1.4 millions\n",
    "- shallow NN\n",
    "- trimmed vocabulary\n",
    "- only one experiment\n",
    "- LSTM instead of Transformer\n",
    "  \n",
    "In the next versions I will be enhancing the model."
   ],
   "cell_type": "markdown",
   "metadata": {}
  },
  {
   "cell_type": "code",
   "execution_count": null,
   "metadata": {},
   "outputs": [],
   "source": []
  }
 ]
}